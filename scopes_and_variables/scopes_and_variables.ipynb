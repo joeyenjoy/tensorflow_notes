{
 "cells": [
  {
   "cell_type": "code",
   "execution_count": 1,
   "metadata": {
    "collapsed": true
   },
   "outputs": [
    {
     "name": "stdout",
     "output_type": "stream",
     "text": [
      "conv1/weights1:0\n"
     ]
    }
   ],
   "source": [
    "import tensorflow as tf\n",
    "\n",
    "# name_scope will affect tf.Variables\n",
    "\n",
    "with tf.name_scope(\"conv1\") as scope:\n",
    "    w1 = tf.Variable(3, name='weights1')\n",
    "\n",
    "print w1.name"
   ]
  },
  {
   "cell_type": "code",
   "execution_count": 2,
   "metadata": {},
   "outputs": [
    {
     "name": "stdout",
     "output_type": "stream",
     "text": [
      "wieghts2:0\n"
     ]
    }
   ],
   "source": [
    "# name scope will not affect tf.get_variables\n",
    "with tf.name_scope(\"conv1\") as scope:\n",
    "    w2 = tf.get_variable(\"wieghts2\", shape=[5,2])\n",
    "\n",
    "print w2.name"
   ]
  },
  {
   "cell_type": "code",
   "execution_count": 3,
   "metadata": {
    "collapsed": false
   },
   "outputs": [
    {
     "name": "stdout",
     "output_type": "stream",
     "text": [
      "conv1/weights3:0\nconv1_2/weights4:0\n"
     ]
    }
   ],
   "source": [
    "# variable scope will affect tf.Variables and tf.get_variable\n",
    "with tf.variable_scope(\"conv1\") as scope:\n",
    "    w3 = tf.get_variable(\"weights3\", shape=[5,2])\n",
    "    w4 = tf.Variable(0, name=\"weights4\")\n",
    "\n",
    "print w3.name\n",
    "print w4.name"
   ]
  },
  {
   "cell_type": "code",
   "execution_count": null,
   "metadata": {},
   "outputs": [],
   "source": []
  }
 ],
 "metadata": {
  "kernelspec": {
   "display_name": "Python 2",
   "language": "python",
   "name": "python2"
  },
  "language_info": {
   "codemirror_mode": {
    "name": "ipython",
    "version": 2
   },
   "file_extension": ".py",
   "mimetype": "text/x-python",
   "name": "python",
   "nbconvert_exporter": "python",
   "pygments_lexer": "ipython2",
   "version": "2.7.6"
  }
 },
 "nbformat": 4,
 "nbformat_minor": 0
}
